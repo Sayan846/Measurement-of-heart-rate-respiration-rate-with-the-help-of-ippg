{
 "cells": [
  {
   "cell_type": "code",
   "execution_count": null,
   "metadata": {},
   "outputs": [],
   "source": [
    "import cv2\n",
    "import numpy as np\n",
    "import time\n",
    "import matplotlib.pyplot as plt\n",
    "\n",
    "from skimage.io import imread, imshow\n",
    "\n",
    "\n",
    "from skimage import img_as_ubyte, img_as_float\n",
    "from scipy.stats import norm\n",
    "\n",
    "from IPython.display import clear_output\n",
    "face_cascade = cv2.CascadeClassifier(\"C:\\\\Users\\\\Dell\\\\haarcascade_frontalface_default.xml\")"
   ]
  },
  {
   "cell_type": "code",
   "execution_count": null,
   "metadata": {},
   "outputs": [],
   "source": [
    "face_cascade.empty()"
   ]
  },
  {
   "cell_type": "code",
   "execution_count": null,
   "metadata": {},
   "outputs": [],
   "source": [
    "c = int(input(\"Enter Webcam no: \"))\n",
    "\n",
    "\n",
    "capture=cv2.VideoCapture(c)\n",
    "\n",
    "cod = cv2.VideoWriter_fourcc(*'XVID')\n",
    "out = cv2.VideoWriter('out.avi',cod,20.0,(640,480))\n",
    "f = 0\n",
    "img = []\n",
    "drtn = 0\n",
    "while True:\n",
    "    if(f == 0):\n",
    "        time.sleep(2)\n",
    "        start = time.time()\n",
    "    ret,color_img =capture.read()\n",
    "    cv2.imshow('Frames',color_img)\n",
    "\n",
    "    gray_img = cv2.cvtColor(color_img, cv2.COLOR_BGR2GRAY)\n",
    "    \n",
    "    faces = face_cascade.detectMultiScale(gray_img)\n",
    "    \n",
    "    if(len(faces) >1):\n",
    "        continue\n",
    "        \n",
    "    for (x,y,w,h) in faces:\n",
    "        face_gray = gray_img[y:y+h, x:x+h]\n",
    "        face_color = color_img[y:y+h, x:x+w]\n",
    "        \n",
    "        h = h//3 - 15\n",
    "        x += 15\n",
    "        w -= 38\n",
    "        img = color_img[y:y+h,x:x+w]\n",
    "    if(len(img) == 0):\n",
    "        continue\n",
    "    cv2.imshow('img',img)\n",
    "\n",
    "    cv2.imwrite('Frame'+str(f)+'.jpg', img)\n",
    "    f += 1\n",
    "\n",
    "    if cv2.waitKey(1) & 0xFF == ord('q'):\n",
    "        drtn = (time.time() - start)\n",
    "        break\n",
    "        \n",
    "capture.release()\n",
    "cv2.destroyAllWindows()"
   ]
  },
  {
   "cell_type": "code",
   "execution_count": null,
   "metadata": {},
   "outputs": [],
   "source": [
    "f= 246\n",
    "drtn = 8\n",
    "f//drtn"
   ]
  },
  {
   "cell_type": "code",
   "execution_count": null,
   "metadata": {},
   "outputs": [],
   "source": [
    "import os\n",
    "bgr = np.zeros((f,4))\n",
    "R = []\n",
    "G = []\n",
    "B = []\n",
    "\n",
    "for k in range(f):\n",
    "\n",
    "        \n",
    "    img = cv2.imread('C:\\\\Users\\\\Dell\\\\IPPG PROJECT\\\\Frame'+str(k)+'.jpg')  #Start from number 1\n",
    "    #print('frame'+str(k)+'.jpg')\n",
    "    #clear_output(wait=True)\n",
    "    #try:\n",
    "  #os.remove('C:\\\\Users\\\\Dell\\\\Frame'+str(k)+'.jpg')\n",
    "   # except:\n",
    "    #     break\n",
    "            \n",
    "    h, w, c = img.shape #height, width, channnel\n",
    "\n",
    "    #Initialize\n",
    "    l=0\n",
    "    b_ave=0; g_ave=0; r_ave=0\n",
    "\n",
    "    rCh = img[:,:,0]\n",
    "    gCh = img[:,:,1]\n",
    "    bCh = img[:,:,2]\n",
    "    \n",
    "    R.append(np.mean(rCh))\n",
    "    G.append(np.mean(gCh))\n",
    "    B.append(np.mean(bCh))"
   ]
  },
  {
   "cell_type": "code",
   "execution_count": null,
   "metadata": {},
   "outputs": [],
   "source": [
    "R = R[:len(R)-300]   # Lower the sample rate from backside\n",
    "G = G[:len(G)-300]\n",
    "B = B[:len(B)-300]"
   ]
  },
  {
   "cell_type": "code",
   "execution_count": null,
   "metadata": {},
   "outputs": [],
   "source": [
    "from scipy import signal\n",
    "resample_R = signal.resample(R, 1744)   # resample the data (increase or decrease)\n",
    "resample_G = signal.resample(G, 1744)\n",
    "resample_B = signal.resample(B, 1744)"
   ]
  },
  {
   "cell_type": "code",
   "execution_count": null,
   "metadata": {},
   "outputs": [],
   "source": [
    "R1 = []\n",
    "G1 = []\n",
    "B1 = []\n",
    "for i in range(len(R)):     # appending None value in raw data\n",
    "    R1.append(R[i])\n",
    "    R1.append(None)\n",
    "    \n",
    "    G1.append(G[i])\n",
    "    G1.append(None)\n",
    "    \n",
    "    B1.append(B[i])\n",
    "    B1.append(None)\n",
    "        \n",
    "\n",
    "R = np.array(R1)\n",
    "G = np.array(G1)\n",
    "B = np.array(B1)\n",
    "\n",
    "import pandas as pd\n",
    "dataframe = pd.DataFrame(R,columns=['R'])\n",
    "dataframe[\"G\"] = G\n",
    "dataframe[\"B\"] = B\n",
    "\n",
    "dataframe.dtypes\n",
    "for col in dataframe:\n",
    "    dataframe[col] = pd.to_numeric(dataframe[col], errors='coerce')\n",
    "    \n",
    "dataframe = dataframe.interpolate(method ='linear', limit_direction ='forward')   # Recreate  the data with respect to previous data\n",
    "R = dataframe['R']\n",
    "G = dataframe['G']\n",
    "B = dataframe['B']"
   ]
  },
  {
   "cell_type": "code",
   "execution_count": null,
   "metadata": {},
   "outputs": [],
   "source": [
    "plt.plot(R)"
   ]
  },
  {
   "cell_type": "code",
   "execution_count": null,
   "metadata": {},
   "outputs": [],
   "source": [
    "import scipy.interpolate as intp\n",
    "\n",
    "R = np.array(R)   # using another interpolation we increase the data size\n",
    "G = np.array(G)\n",
    "B = np.array(B)\n",
    "\n",
    "R_new_intp = intp.interp1d(np.arange(R.size),R)\n",
    "R1 = R_new_intp(np.linspace(0, R.size-1, 3816))\n",
    "\n",
    "G_new_intp = intp.interp1d(np.arange(G.size),G)\n",
    "G1 = G_new_intp(np.linspace(0, G.size-1, 3816))\n",
    "\n",
    "B_new_intp = intp.interp1d(np.arange(B.size),B)\n",
    "B1 = B_new_intp(np.linspace(0, B.size-1, 3816))"
   ]
  },
  {
   "cell_type": "code",
   "execution_count": null,
   "metadata": {},
   "outputs": [],
   "source": [
    "R = np.array(R)\n",
    "G = np.array(G)\n",
    "B = np.array(B)   # Using another intepolation we at first decrease the size & next increase the size\n",
    "\n",
    "R_intp = intp.interp1d(np.arange(R.size),R)\n",
    "R_new = R_intp(np.linspace(0, R.size-1, 1700))\n",
    "\n",
    "R_new_intp = intp.interp1d(np.arange(R_new.size),R_new)\n",
    "R1 = R_new_intp(np.linspace(0, R_new.size-1, 2072))\n",
    "#G\n",
    "\n",
    "G_intp = intp.interp1d(np.arange(G.size),G)\n",
    "G_new = G_intp(np.linspace(0, G.size-1, 1700))\n",
    "\n",
    "G_new_intp = intp.interp1d(np.arange(G_new.size),G_new)\n",
    "G1 = G_new_intp(np.linspace(0, G_new.size-1, 2072))\n",
    "#B\n",
    "\n",
    "B_intp = intp.interp1d(np.arange(B.size),B)\n",
    "B_new = B_intp(np.linspace(0, B.size-1, 1700))\n",
    "\n",
    "B_new_intp = intp.interp1d(np.arange(B_new.size),B_new)\n",
    "B1 = B_new_intp(np.linspace(0, B_new.size-1, 2072))"
   ]
  },
  {
   "cell_type": "code",
   "execution_count": null,
   "metadata": {},
   "outputs": [],
   "source": [
    "# nR = (resample_R - np.mean(resample_R)) #/np.var(R)\n",
    "# nG = (resample_G - np.mean(resample_G)) #/np.var(G)\n",
    "# nB = (resample_B - np.mean(resample_B)) #/np.var(B)\n",
    "\n",
    "# nR = (R1 - np.mean(R1)) #/np.var(R)\n",
    "# nG = (G1 - np.mean(G1)) #/np.var(G)\n",
    "# nB = (B1 - np.mean(B1)) #/np.var(B)\n",
    "\n",
    "nR = (R - np.mean(R)) #/np.var(R)\n",
    "nG = (G - np.mean(G)) #/np.var(G)\n",
    "nB = (B - np.mean(B)) #/np.var(B)\n",
    "\n",
    "plt.figure()\n",
    "plt.subplot(3,1,1)\n",
    "plt.plot(nR,color='red')\n",
    "plt.subplot(3,1,2)\n",
    "plt.plot(nG,color= 'Green')\n",
    "plt.subplot(3,1,3)\n",
    "plt.plot(nB, color='blue')"
   ]
  },
  {
   "cell_type": "code",
   "execution_count": null,
   "metadata": {},
   "outputs": [],
   "source": [
    "from scipy import signal\n",
    "\n",
    "plt.figure()\n",
    "plt.subplot(3,1,1)\n",
    "plt.plot(signal.detrend(nR),color='red')\n",
    "plt.subplot(3,1,2)\n",
    "plt.plot(signal.detrend(nG),color= 'Green')\n",
    "plt.subplot(3,1,3)\n",
    "plt.plot(signal.detrend(nB), color='blue')"
   ]
  },
  {
   "cell_type": "code",
   "execution_count": null,
   "metadata": {},
   "outputs": [],
   "source": [
    "nR = signal.detrend(nR)\n",
    "nG = signal.detrend(nG)\n",
    "nB = signal.detrend(nB)"
   ]
  },
  {
   "cell_type": "code",
   "execution_count": null,
   "metadata": {},
   "outputs": [],
   "source": [
    "import numpy as np\n",
    "import matplotlib.pyplot as plt\n",
    "import random\n",
    "\n",
    "def running_mean(x, N):\n",
    "    cumsum = np.cumsum(np.insert(x, 0, 0)) \n",
    "    return (cumsum[N:] - cumsum[:-N]) / float(N)\n",
    "\n",
    "x = nR\n",
    "y1 = running_mean(x, 10)\n",
    "plt.subplot(1,2,1)\n",
    "plt.plot(x)\n",
    "plt.subplot(1,2,2)\n",
    "plt.plot(y1,'r')"
   ]
  },
  {
   "cell_type": "code",
   "execution_count": null,
   "metadata": {},
   "outputs": [],
   "source": [
    "def center(x):\n",
    "    mean = np.mean(x, axis=1, keepdims=True)\n",
    "    centered =  x - mean\n",
    "    return centered, mean\n",
    "\n",
    "def covariance(x):\n",
    "    mean = np.mean(x, axis=1, keepdims=True)\n",
    "    n = np.shape(x)[1] - 1\n",
    "    m = x - mean\n",
    "\n",
    "    return (m.dot(m.T))/n\n",
    "\n",
    "def whiten(x):\n",
    "    # Calculate the covariance matrix\n",
    "    coVarM = covariance(X)\n",
    "\n",
    "    # Single value decoposition\n",
    "    U, S, V = np.linalg.svd(coVarM)\n",
    "\n",
    "    # Calculate diagonal matrix of eigenvalues\n",
    "    d = np.diag(1.0 / np.sqrt(S))\n",
    "\n",
    "    # Calculate whitening matrix\n",
    "    whiteM = np.dot(U, np.dot(d, U.T))\n",
    "\n",
    "    # Project onto whitening matrix\n",
    "    Xw = np.dot(whiteM, X)\n",
    "\n",
    "    return Xw, whiteM\n",
    "\n",
    "def fastIca(signals,  alpha = 1, thresh=1e-8, iterations=5000):\n",
    "    m, n = signals.shape\n",
    "\n",
    "    # Initialize random weights\n",
    "    W = np.random.rand(m, m)\n",
    "\n",
    "    for c in range(m):\n",
    "            w = W[c, :].copy().reshape(m, 1)\n",
    "            w = w / np.sqrt((w ** 2).sum())\n",
    "\n",
    "            i = 0\n",
    "            lim = 100\n",
    "            while ((lim > thresh) & (i < iterations)):\n",
    "\n",
    "                # Dot product of weight and signal\n",
    "                ws = np.dot(w.T, signals)\n",
    "\n",
    "                # Pass w*s into contrast function g\n",
    "                wg = np.tanh(ws * alpha).T\n",
    "\n",
    "                # Pass w*s into g prime\n",
    "                wg_ = (1 - np.square(np.tanh(ws))) * alpha\n",
    "\n",
    "                # Update weights\n",
    "                wNew = (signals * wg.T).mean(axis=1) - wg_.mean() * w.squeeze()\n",
    "\n",
    "                # Decorrelate weights              \n",
    "                wNew = wNew - np.dot(np.dot(wNew, W[:c].T), W[:c])\n",
    "                wNew = wNew / np.sqrt((wNew ** 2).sum())\n",
    "\n",
    "                # Calculate limit condition\n",
    "                lim = np.abs(np.abs((wNew * w).sum()) - 1)\n",
    "\n",
    "                # Update weights\n",
    "                w = wNew\n",
    "\n",
    "                # Update counter\n",
    "                i += 1\n",
    "\n",
    "            W[c, :] = w.T\n",
    "    return W"
   ]
  },
  {
   "cell_type": "code",
   "execution_count": null,
   "metadata": {},
   "outputs": [],
   "source": [
    "X = (np.c_[nR, nG, nB]).T"
   ]
  },
  {
   "cell_type": "code",
   "execution_count": null,
   "metadata": {},
   "outputs": [],
   "source": [
    "# Center signals\n",
    "Xc, meanX = center(X)\n",
    "\n",
    "# Whiten mixed signals\n",
    "Xw, whiteM = whiten(Xc)\n",
    "\n",
    "# Check if covariance of whitened matrix equals identity matrix\n",
    "print(np.round(covariance(Xw)))"
   ]
  },
  {
   "cell_type": "code",
   "execution_count": null,
   "metadata": {},
   "outputs": [],
   "source": [
    "W = fastIca(Xw,  alpha=1)\n",
    "\n",
    "#Un-mix signals using\n",
    "unMixed = Xw.T.dot(W.T)\n",
    "\n",
    "# Subtract mean\n",
    "unMixed = (unMixed.T - meanX).T"
   ]
  },
  {
   "cell_type": "code",
   "execution_count": null,
   "metadata": {},
   "outputs": [],
   "source": [
    "\n",
    "colors = ['red', 'green', 'blue']\n",
    "fig, ax = plt.subplots(1, 1, figsize=[18, 5])\n",
    "for i in range(3):\n",
    "    ax.plot(X[i], lw = 2, color = colors[i])\n",
    "ax.tick_params(labelsize=12)\n",
    "ax.set_title('mixed signals', fontsize=25)\n",
    "# ax.set_xlim(0, 10)\n",
    "\n",
    "fig, ax = plt.subplots(1, 1, figsize=[18, 5],)\n",
    "for i in range(3):\n",
    "    ax.plot(unMixed.T[i], lw = 2, color = colors[i])\n",
    "ax.set_ylabel(\"Amplitude\", fontsize = 10)\n",
    "ax.set_xlabel('Sample number', fontsize=20)\n",
    "ax.set_title('Recovered signals', fontsize=25)\n",
    "# ax.set_xlim(0, 100)\n",
    "\n",
    "plt.show()"
   ]
  },
  {
   "cell_type": "code",
   "execution_count": null,
   "metadata": {},
   "outputs": [],
   "source": [
    "ff = plt.figure()\n",
    "ff.set_figwidth(30)\n",
    "ff.set_figheight(8)\n",
    "plt.plot(unMixed.T[2])"
   ]
  },
  {
   "cell_type": "markdown",
   "metadata": {},
   "source": []
  },
  {
   "cell_type": "code",
   "execution_count": null,
   "metadata": {},
   "outputs": [],
   "source": [
    "pip install EMD-signal"
   ]
  },
  {
   "cell_type": "code",
   "execution_count": null,
   "metadata": {},
   "outputs": [],
   "source": [
    "from PyEMD import EEMD"
   ]
  },
  {
   "cell_type": "code",
   "execution_count": null,
   "metadata": {},
   "outputs": [],
   "source": [
    "from PyEMD import  Visualisation"
   ]
  },
  {
   "cell_type": "code",
   "execution_count": null,
   "metadata": {},
   "outputs": [],
   "source": [
    "pip install vmdpy"
   ]
  },
  {
   "cell_type": "code",
   "execution_count": null,
   "metadata": {},
   "outputs": [],
   "source": [
    "import os\n",
    "import numpy as np\n",
    "import pandas as pd\n",
    "from sklearn.metrics import mean_squared_error\n",
    "from numpy import corrcoef as cc\n",
    "from scipy import signal\n",
    "from scipy.fft import fft, fftfreq\n",
    "from scipy.stats import kurtosis\n",
    "from scipy.stats import skew\n",
    "from PyEMD import EEMD, Visualisation\n",
    "from vmdpy import VMD\n",
    "import matplotlib.pyplot as plt\n",
    "import cmath\n",
    "from datetime import datetime"
   ]
  },
  {
   "cell_type": "code",
   "execution_count": null,
   "metadata": {},
   "outputs": [],
   "source": [
    "fs = 18\n",
    "sos_resp = signal.butter(2, [0.15, 0.65], 'bandpass', output='sos', fs=fs)\n",
    "sos_heart = signal.butter(2, [0.75, 5.0], 'bandpass', output='sos', fs=fs)"
   ]
  },
  {
   "cell_type": "code",
   "execution_count": null,
   "metadata": {},
   "outputs": [],
   "source": [
    "filt_resp = signal.sosfiltfilt(sos_resp, unMixed.T[2])\n",
    "filt_heart= signal.sosfiltfilt(sos_heart, unMixed.T[2])\n",
    "N = len(unMixed.T[2])\n",
    "ff_filtresp = np.abs(fft(filt_resp,N))\n",
    "ff_filtheart = np.abs(fft(filt_heart,N))"
   ]
  },
  {
   "cell_type": "code",
   "execution_count": null,
   "metadata": {},
   "outputs": [],
   "source": [
    "peaks_index,_ = signal.find_peaks(ff_filtresp[:60])\n",
    "peaks = ff_filtresp[peaks_index]\n",
    "freqs = fftfreq(len(filt_resp)) * fs\n",
    "peak_freq =freqs[peaks_index]\n",
    "print(f'Peaks: {peaks}')\n",
    "print(f'Frequency values at respiration peaks: {peak_freq}')\n",
    "peaks_index11,_ = signal.find_peaks(ff_filtheart[:60])\n",
    "peaks11 = ff_filtheart[peaks_index11]\n",
    "freqs11 = fftfreq(len(filt_heart)) * fs\n",
    "peak_freq11 =freqs[peaks_index11]\n",
    "print(f'Peaks: {peaks11}')\n",
    "print(f'Frequency values at heart peaks: {peak_freq11}')"
   ]
  },
  {
   "cell_type": "code",
   "execution_count": null,
   "metadata": {},
   "outputs": [],
   "source": [
    "plt.figure(figsize=(15,4))\n",
    "plt.plot(filt_resp, 'b')\n",
    "plt.title('Respiration Signal')\n",
    "plt.grid()\n",
    "\n",
    "\n",
    "plt.figure(figsize=(15,4))\n",
    "plt.plot(filt_heart, 'r')\n",
    "plt.title('Heart Signal')\n",
    "plt.grid()\n",
    "       \n",
    "plt.show()\n",
    "      \n"
   ]
  },
  {
   "cell_type": "code",
   "execution_count": null,
   "metadata": {},
   "outputs": [],
   "source": [
    "eemd=EEMD()\n",
    "IMFss = eemd(filt_resp)\n",
    "imfNo  = IMFss.shape[0]\n",
    "print(\"Total Number of IMFs in resp signal = \" + str(imfNo))\n",
    "\n",
    "imfs, res = IMFss[:-1], IMFss[-1]"
   ]
  },
  {
   "cell_type": "code",
   "execution_count": null,
   "metadata": {},
   "outputs": [],
   "source": [
    "eemd1=EEMD()\n",
    "IMFss1 = eemd(filt_heart)\n",
    "imfNo1  = IMFss1.shape[0]\n",
    "print(\"Total Number of IMFs in heart signal= \" + str(imfNo1))\n",
    "\n",
    "imfs1, res1 = IMFss1[:-1], IMFss[-1]"
   ]
  },
  {
   "cell_type": "code",
   "execution_count": null,
   "metadata": {},
   "outputs": [],
   "source": [
    "cnt = 0\n",
    "\n",
    "plt.figure(figsize=(25, 25)) \n",
    "plt.subplots_adjust(hspace=0.4)\n",
    "\n",
    "R=[]\n",
    "\n",
    "for i in imfs:\n",
    "    \n",
    "    \n",
    "    plt.subplot(len(imfs), 1, cnt+1)\n",
    "    plt.suptitle(\"Freq response of EEMD_RESP, IPPG\",y=0.9)\n",
    "    t=30\n",
    "    r1=np.abs(fft(i,N))[:t]\n",
    "    R.append(r1)\n",
    "    plt.plot(freqs[0:t],10*r1,'k')\n",
    "    \n",
    "    plt.grid()\n",
    "    \n",
    "    cnt += 1\n"
   ]
  },
  {
   "cell_type": "code",
   "execution_count": null,
   "metadata": {},
   "outputs": [],
   "source": [
    "cnt = 0\n",
    "\n",
    "plt.figure(figsize=(25, 25)) \n",
    "plt.subplots_adjust(hspace=0.4)\n",
    "\n",
    "R1=[]\n",
    "\n",
    "for i in imfs1:\n",
    "    \n",
    "    \n",
    "    plt.subplot(len(imfs1), 1, cnt+1)\n",
    "    plt.suptitle(\"Freq response of EEMD_HEART, IPPG\",y=0.9)\n",
    "    t=100\n",
    "    r2=np.abs(fft(i,N))[:t]\n",
    "    R1.append(r2)\n",
    "    plt.plot(freqs11[0:t],10*r2,'b')\n",
    "    \n",
    "    plt.grid()\n",
    "    \n",
    "    cnt += 1\n"
   ]
  },
  {
   "cell_type": "code",
   "execution_count": null,
   "metadata": {},
   "outputs": [],
   "source": [
    "HR_sig1=IMFss[3]\n",
    "ff_RR1=np.abs(fft(HR_sig1,N))*5\n",
    "\n",
    "peaks_index1,_= signal.find_peaks(ff_RR1[0:160])\n",
    "peaks1=ff_RR1[peaks_index1]\n",
    "max_peak1=max(peaks1)\n",
    "index1=np.where(peaks1==max_peak1)\n",
    "max_peak_index1=peaks_index1[index1]\n",
    "RR_freq1=freqs[max_peak_index1]\n",
    "HR_sig=HR_sig1\n",
    "RR_freq=RR_freq1\n",
    "ff_RR=ff_RR1\n",
    "ind=max_peak_index1\n",
    "max_peak=max_peak1\n",
    "peak_index=peaks_index1\n",
    "peaks=peaks1\n",
    "index=index1\n",
    "\n",
    "print(RR_freq*60)\n"
   ]
  },
  {
   "cell_type": "code",
   "execution_count": null,
   "metadata": {},
   "outputs": [],
   "source": [
    "HR_sig11=IMFss1[1]\n",
    "ff_RR2=np.abs(fft(HR_sig11,N))*5\n",
    "\n",
    "peaks_index10,_= signal.find_peaks(ff_RR2[0:160])\n",
    "peaks10=ff_RR2[peaks_index10]\n",
    "max_peak10=max(peaks10)\n",
    "index10=np.where(peaks10==max_peak10)\n",
    "max_peak_index10=peaks_index10[index10]\n",
    "RR_freq10=freqs[max_peak_index10]\n",
    "HR_sig=HR_sig11\n",
    "RR_freq100=RR_freq10\n",
    "ff_RR10=ff_RR2\n",
    "ind=max_peak_index10\n",
    "max_peak100=max_peak10\n",
    "peak_index100=peaks_index10\n",
    "peaks=peaks10\n",
    "index=index10\n",
    "print(RR_freq10*60)\n"
   ]
  },
  {
   "cell_type": "code",
   "execution_count": null,
   "metadata": {},
   "outputs": [],
   "source": []
  }
 ],
 "metadata": {
  "kernelspec": {
   "display_name": "Python 3",
   "language": "python",
   "name": "python3"
  },
  "language_info": {
   "codemirror_mode": {
    "name": "ipython",
    "version": 3
   },
   "file_extension": ".py",
   "mimetype": "text/x-python",
   "name": "python",
   "nbconvert_exporter": "python",
   "pygments_lexer": "ipython3",
   "version": "3.10.7 (tags/v3.10.7:6cc6b13, Sep  5 2022, 14:08:36) [MSC v.1933 64 bit (AMD64)]"
  },
  "orig_nbformat": 4,
  "vscode": {
   "interpreter": {
    "hash": "76d7c06053c3456e5600312cec90888656fc0ed30c03d8425b9dac6e4fc8e014"
   }
  }
 },
 "nbformat": 4,
 "nbformat_minor": 2
}
